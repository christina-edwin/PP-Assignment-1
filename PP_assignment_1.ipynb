{
  "metadata": {
    "language_info": {
      "codemirror_mode": {
        "name": "python",
        "version": 3
      },
      "file_extension": ".py",
      "mimetype": "text/x-python",
      "name": "python",
      "nbconvert_exporter": "python",
      "pygments_lexer": "ipython3",
      "version": "3.8"
    },
    "kernelspec": {
      "name": "python",
      "display_name": "Python (Pyodide)",
      "language": "python"
    }
  },
  "nbformat_minor": 4,
  "nbformat": 4,
  "cells": [
    {
      "cell_type": "raw",
      "source": "                                          Path Planning Assignment 1\nHello Guys, This is the assignment I want you guys to solve. This will help you guys to understand the basics of python and allow you guys to impelement some of the things that you have learnt up until now.For this assignment , I want you to complete the functions needed to solve the problem given. To properly complete the assignment, USE THE INPUTS GIVEN IN THE EXAMPLE.If you are finding some difficulty solving any one of these problems , please feel free to contact one of us",
      "metadata": {}
    },
    {
      "cell_type": "raw",
      "source": "Q1) Given an array of integers nums and an integer target, return indices of the two numbers such that they add up to target.\nYou may assume that each input would have exactly one solution, and you may not use the same element twice.\nYou can return the answer in any order.\n\nExample :\n\nInput: nums = [2,7,11,15], target = 9\nOutput: [0,1]\nExplanation: Because nums[0] + nums[1] == 9, we return [0, 1].",
      "metadata": {}
    },
    {
      "cell_type": "code",
      "source": "def two_sum(*list,target):\n    {\n    \n    }",
      "metadata": {},
      "execution_count": null,
      "outputs": []
    },
    {
      "cell_type": "raw",
      "source": "Q2) Implement pow(x, n), which calculates x raised to the power n (i.e., xn).\n\nExample :\n\nInput: x = 2.00000, n = 10\nOutput: 1024.00000",
      "metadata": {}
    },
    {
      "cell_type": "code",
      "source": "def power(base,power):\n    {\n        \n    }",
      "metadata": {},
      "execution_count": null,
      "outputs": []
    },
    {
      "cell_type": "raw",
      "source": "Q3) You are given a large integer represented as an integer, where each digits[i] is the ith digit of the integer. The digits are ordered from most significant to least significant in left-to-right order. The large integer does not contain any leading 0's.\n\nIncrement the large integer by one and return the resulting array of digits.\n\nExample :\n\nInput: number  = 123 \nOutput: [1,2,4]\nExplanation: The array represents the integer 123.\nIncrementing by one gives 123 + 1 = 124.\nThus, the result should be [1,2,4]",
      "metadata": {}
    },
    {
      "cell_type": "code",
      "source": "def increment(number):\n    {\n        \n    }",
      "metadata": {},
      "execution_count": null,
      "outputs": []
    },
    {
      "cell_type": "raw",
      "source": "Q4) You are given an array prices where prices[i] is the price of a given stock on the ith day.\nYou want to maximize your profit by choosing a single day to buy one stock and choosing a different day in the future to sell that stock.\nReturn the maximum profit you can achieve from this transaction. If you cannot achieve any profit, return 0.\n\nExample :\n\nInput: prices = [7,1,5,3,6,4]\nOutput: 5\nExplanation: Buy on day 2 (price = 1) and sell on day 5 (price = 6), profit = 6-1 = 5.\nNote that buying on day 2 and selling on day 1 is not allowed because you must buy before you sell.",
      "metadata": {}
    },
    {
      "cell_type": "code",
      "source": "def max_profit(*prices):\n    {\n        \n    }",
      "metadata": {},
      "execution_count": null,
      "outputs": []
    },
    {
      "cell_type": "raw",
      "source": "Q5) Given an string x, return true if x is a \npalindrome, and false otherwise.\n\nExample :\n\nInput: x = 121\nOutput: true\nExplanation: 121 reads as 121 from left to right and from right to left.",
      "metadata": {}
    },
    {
      "cell_type": "code",
      "source": "def Palindrome(num: str):\n    {\n        \n    }",
      "metadata": {},
      "execution_count": null,
      "outputs": []
    }
  ]
}